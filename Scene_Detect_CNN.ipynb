{
  "cells": [
    {
      "cell_type": "code",
      "execution_count": 1,
      "metadata": {
        "id": "OCQZb4qgLGuE"
      },
      "outputs": [
        {
          "ename": "",
          "evalue": "",
          "output_type": "error",
          "traceback": [
            "\u001b[1;31mRunning cells with 'Python 3.13.2' requires the ipykernel package.\n",
            "\u001b[1;31mRun the following command to install 'ipykernel' into the Python environment. \n",
            "\u001b[1;31mCommand: '/usr/local/bin/python3 -m pip install ipykernel -U --user --force-reinstall'"
          ]
        }
      ],
      "source": [
        "# Import all required libraries\n",
        "import os\n",
        "import gdown\n",
        "import zipfile\n",
        "import cv2\n",
        "import matplotlib.pyplot as plt\n",
        "import matplotlib.image as mpimg\n",
        "import tensorflow as tf\n",
        "import numpy as np\n",
        "from tensorflow.keras.preprocessing import image\n",
        "from tensorflow.keras import models, layers\n",
        "from tensorflow.keras.preprocessing.image import ImageDataGenerator"
      ]
    },
    {
      "cell_type": "code",
      "execution_count": null,
      "metadata": {
        "colab": {
          "base_uri": "https://localhost:8080/",
          "height": 122
        },
        "id": "qgVp9id9N5oP",
        "outputId": "5caffc58-e3fc-4b26-dee2-15b835dac2f3"
      },
      "outputs": [],
      "source": [
        "url = \"https://drive.google.com/file/d/1X-RXCt4kvl7v9vtwPqNilc6Zxi5E3THL/view?usp=sharing\"\n",
        "filename = 'SITUATION.zip'\n",
        "gdown.download(url, output=filename, quiet=False, use_cookies=True, fuzzy=True)"
      ]
    },
    {
      "cell_type": "code",
      "execution_count": 3,
      "metadata": {
        "id": "QAkDh3h-QAh-"
      },
      "outputs": [],
      "source": [
        "with zipfile.ZipFile(filename, 'r') as zip_ref:\n",
        "    zip_ref.extractall(\"/content\")"
      ]
    },
    {
      "cell_type": "code",
      "execution_count": null,
      "metadata": {
        "colab": {
          "base_uri": "https://localhost:8080/"
        },
        "id": "CdbQZA2KLIlt",
        "outputId": "702d887b-fb55-4e42-d273-40e930885fdd"
      },
      "outputs": [],
      "source": [
        "image_dir = \"/content/SITUATION/\"\n",
        "train_dir = os.path.join(image_dir,'TRAIN')\n",
        "test_dir = os.path.join(image_dir,'TEST')\n",
        "\n",
        "print(\"Train directory -> \", train_dir)\n",
        "print(\"Test directory -> \", test_dir)"
      ]
    },
    {
      "cell_type": "code",
      "execution_count": null,
      "metadata": {
        "colab": {
          "base_uri": "https://localhost:8080/"
        },
        "id": "Fjkxdq_JNdD1",
        "outputId": "62ac128f-7e76-45e0-a1cb-373a7fb846b8"
      },
      "outputs": [],
      "source": [
        "train_Ok_dir = os.path.join(train_dir,'OK')\n",
        "train_NotOk_dir =os.path.join(train_dir,'NOT OK')\n",
        "train_NotInRange_dir =os.path.join(train_dir,'NOT IN RANGE')\n",
        "\n",
        "print(\"OK directory -> \", train_Ok_dir)\n",
        "print(\"NOT OK directory -> \", train_NotOk_dir)\n",
        "print(\"NOT IN RANGE directory -> \", train_NotInRange_dir)"
      ]
    },
    {
      "cell_type": "code",
      "execution_count": null,
      "metadata": {
        "colab": {
          "base_uri": "https://localhost:8080/"
        },
        "id": "PT1904vXazbj",
        "outputId": "2a9ab595-cd49-42a6-ba13-25aaa65cef5a"
      },
      "outputs": [],
      "source": [
        "image_files_Ok = os.listdir(train_Ok_dir)\n",
        "image_files_NotOk = os.listdir(train_NotOk_dir)\n",
        "image_files_NotInRange = os.listdir(train_NotInRange_dir)\n",
        "\n",
        "print(\"Images found OK -> \", image_files_Ok[:5]) # slicing the data upto 5 images\n",
        "print(\"Images found NOT OK -> \", image_files_NotOk[:5]) # slicing the data upto 5 images\n",
        "print(\"Images found NOT IN RANGE -> \", image_files_NotInRange[:5]) # slicing the data upto 5 images"
      ]
    },
    {
      "cell_type": "code",
      "execution_count": null,
      "metadata": {
        "colab": {
          "base_uri": "https://localhost:8080/",
          "height": 285
        },
        "id": "8EyLQo7xAcF8",
        "outputId": "99db9d06-de2a-4a87-e95c-6b1d15dffb1f"
      },
      "outputs": [],
      "source": [
        "plt.figure(figsize=(10,10))\n",
        "for i in range(3):\n",
        "    ax = plt.subplot(3, 3, i + 1)\n",
        "    mg_path = os.path.join(train_Ok_dir, image_files_Ok[i])\n",
        "    img = mpimg.imread(mg_path)  # Load the image from file path\n",
        "    plt.imshow(img)\n",
        "    plt.title(image_files_Ok[i])\n",
        "    plt.axis(\"off\")"
      ]
    },
    {
      "cell_type": "code",
      "execution_count": 8,
      "metadata": {
        "id": "bskGgPLnbYA2"
      },
      "outputs": [],
      "source": [
        "# Normalize each image values between 0 and 1.\n",
        "trainDataGen = ImageDataGenerator(\n",
        "    rescale=1./255,\n",
        "    rotation_range=30,\n",
        "    zoom_range=0.2,\n",
        "    horizontal_flip = True,\n",
        "    fill_mode='nearest',\n",
        "    shear_range = 0.5\n",
        ")\n",
        "\n",
        "testDataGen = ImageDataGenerator(\n",
        "    rescale=1./255,\n",
        "    rotation_range=30,\n",
        "    zoom_range=0.2,\n",
        "    horizontal_flip = True,\n",
        "    fill_mode='nearest',\n",
        "    shear_range = 0.5\n",
        ")"
      ]
    },
    {
      "cell_type": "code",
      "execution_count": null,
      "metadata": {
        "colab": {
          "base_uri": "https://localhost:8080/"
        },
        "id": "3p_3FK8Vb3ap",
        "outputId": "ea4ab54b-9cf0-40df-9058-7e41a4a79e98"
      },
      "outputs": [],
      "source": [
        "training = trainDataGen.flow_from_directory(train_dir, target_size=(150, 150)) # Provie the train directory to model.\n",
        "training.class_indices                                                         # Labeling to the data set by creating JSON."
      ]
    },
    {
      "cell_type": "code",
      "execution_count": null,
      "metadata": {
        "colab": {
          "base_uri": "https://localhost:8080/"
        },
        "id": "jjdxyBuEgLTh",
        "outputId": "f78aebda-a33c-4775-dd7f-57254361b0ab"
      },
      "outputs": [],
      "source": [
        "testing = testDataGen.flow_from_directory(test_dir, target_size=(150, 150))\n",
        "testing.class_indices"
      ]
    },
    {
      "cell_type": "code",
      "execution_count": null,
      "metadata": {
        "colab": {
          "base_uri": "https://localhost:8080/",
          "height": 365
        },
        "id": "11zvfGwk4I9o",
        "outputId": "c504ffd2-9fb5-44b1-b9e7-10c1b3b4388a"
      },
      "outputs": [],
      "source": [
        "# Get one batch of images and labels\n",
        "images, labels = next(training)\n",
        "\n",
        "# Plot the images\n",
        "plt.figure(figsize=(10,10))\n",
        "for i in range(3):\n",
        "    ax = plt.subplot(3, 3, i + 1)\n",
        "    plt.imshow(images[i])         # Already normalized [0,1]\n",
        "    plt.title(np.argmax(labels[i]))  # If categorical, get class index\n",
        "    plt.axis(\"off\")\n",
        "plt.tight_layout()\n",
        "plt.show()"
      ]
    },
    {
      "cell_type": "code",
      "execution_count": 12,
      "metadata": {
        "id": "5kvcAd54xXL3"
      },
      "outputs": [],
      "source": [
        "model=models.Sequential()                             # Sequential layering.\n",
        "model.add(layers.Conv2D(32,(3,3),activation='relu'))  # Create window to standardize picxels.\n",
        "model.add(layers.MaxPooling2D((2,2)))                 # Used for controlling over fitting.\n",
        "model.add(layers.Conv2D(64,(3,3),activation='relu'))\n",
        "model.add(layers.MaxPooling2D((2,2)))\n",
        "model.add(layers.Conv2D(128,(3,3),activation='relu'))\n",
        "model.add(layers.MaxPooling2D((2,2)))\n",
        "model.add(layers.Flatten())\n",
        "model.add(layers.Dense(512,activation='relu'))\n",
        "model.add(layers.Dense(3,activation='softmax'))       # For creating 3 outputs"
      ]
    },
    {
      "cell_type": "code",
      "execution_count": 13,
      "metadata": {
        "id": "VKAYQHByxXw6"
      },
      "outputs": [],
      "source": [
        "model.compile(optimizer=tf.keras.optimizers.RMSprop(learning_rate=0.001), loss='categorical_crossentropy',metrics=['accuracy'])"
      ]
    },
    {
      "cell_type": "code",
      "execution_count": null,
      "metadata": {
        "colab": {
          "base_uri": "https://localhost:8080/"
        },
        "id": "2H8sIolgxX7b",
        "outputId": "dc9e78d0-4399-48a7-c160-834546a2e725"
      },
      "outputs": [],
      "source": [
        "history=model.fit(training, validation_data=testing, steps_per_epoch=8, epochs=15, verbose=1) # Repeat 15 times to refine accuracy"
      ]
    },
    {
      "cell_type": "code",
      "execution_count": null,
      "metadata": {
        "colab": {
          "base_uri": "https://localhost:8080/"
        },
        "id": "bI1anR4vxYC6",
        "outputId": "ab2bc9fd-d4e7-479a-f0d6-175c3e941390"
      },
      "outputs": [],
      "source": [
        "model.save('models/scene-detect.h5')"
      ]
    },
    {
      "cell_type": "code",
      "execution_count": null,
      "metadata": {
        "colab": {
          "base_uri": "https://localhost:8080/",
          "height": 459
        },
        "id": "L42NKi0txnHb",
        "outputId": "6d0b634e-d3eb-45e2-ddb5-65f3ce5cf48e"
      },
      "outputs": [],
      "source": [
        "model.summary() # Summarize the layering details"
      ]
    },
    {
      "cell_type": "code",
      "execution_count": null,
      "metadata": {
        "colab": {
          "base_uri": "https://localhost:8080/",
          "height": 73
        },
        "id": "K-5XYw59xqfc",
        "outputId": "0ae13f0a-6575-4c94-b191-ac478850c7de"
      },
      "outputs": [],
      "source": [
        "from google.colab import files\n",
        "up = files.upload()"
      ]
    },
    {
      "cell_type": "code",
      "execution_count": null,
      "metadata": {
        "colab": {
          "base_uri": "https://localhost:8080/",
          "height": 538
        },
        "id": "vsGKiR8sxsh8",
        "outputId": "96427372-2693-4ad3-9c1b-9245562d2fe6"
      },
      "outputs": [],
      "source": [
        "# Load the image\n",
        "img_path = \"Chilling.jpeg\"  # <- your test image path\n",
        "img = image.load_img(img_path, target_size=(150, 150, 3))  # Match input size of model\n",
        "\n",
        "# Convert and preprocess image\n",
        "img_array = image.img_to_array(img)\n",
        "img_array = img_array / 255.0  # Normalize\n",
        "img_array = np.expand_dims(img_array, axis=0)  # Add batch dimension\n",
        "\n",
        "# Predict\n",
        "predictions = model.predict(img_array)\n",
        "confidence = np.max(predictions[0])  # Highest probability\n",
        "predicted_class = np.argmax(predictions[0])  # Index of prediction\n",
        "\n",
        "# Map class index to label\n",
        "class_indices = training.class_indices  # Dictionary from training (e.g., {'OK': 0, 'NOT OK': 1, ...})\n",
        "labels = dict((v, k) for k, v in class_indices.items())  # Invert it\n",
        "predicted_label = labels[predicted_class]\n",
        "\n",
        "# Load original image using OpenCV\n",
        "cv_img = cv2.imread(img_path)\n",
        "cv_img = cv2.resize(cv_img, (800, 600))  # Resize for display\n",
        "\n",
        "# Determine color based on predicted label\n",
        "if predicted_label == \"OK\":\n",
        "    color = (0, 255, 0)  # Green\n",
        "elif predicted_label == \"NOT OK\":\n",
        "    color = (0, 0, 255)  # Red\n",
        "else:\n",
        "    color = (0, 0, 0)  # Black\n",
        "\n",
        "# Prepare text\n",
        "text = f\"{predicted_label} ({confidence * 100:.2f}%)\"\n",
        "font = cv2.FONT_HERSHEY_SIMPLEX\n",
        "font_scale = 1.2\n",
        "thickness = 3\n",
        "text_position = (30, 60)\n",
        "\n",
        "# Draw background rectangle for better visibility\n",
        "(text_width, text_height), _ = cv2.getTextSize(text, font, font_scale, thickness)\n",
        "cv2.rectangle(cv_img,\n",
        "              (text_position[0] - 10, text_position[1] - 40),\n",
        "              (text_position[0] + text_width + 10, text_position[1] + 10),\n",
        "              (255, 255, 255),\n",
        "              -1)  # White background\n",
        "\n",
        "# Now add the text on top of the rectangle\n",
        "cv2.putText(cv_img, text, text_position, font, font_scale, color, thickness)\n",
        "\n",
        "# Convert BGR (OpenCV) to RGB (matplotlib)\n",
        "cv_img_rgb = cv2.cvtColor(cv_img, cv2.COLOR_BGR2RGB)\n",
        "\n",
        "# Show with matplotlib\n",
        "plt.figure(figsize=(10, 6))\n",
        "plt.imshow(cv_img_rgb)\n",
        "plt.axis('off')\n",
        "plt.title(\"Prediction Result\")\n",
        "plt.show()"
      ]
    },
    {
      "cell_type": "code",
      "execution_count": null,
      "metadata": {
        "id": "jqWseakrPz1w"
      },
      "outputs": [],
      "source": []
    }
  ],
  "metadata": {
    "colab": {
      "provenance": []
    },
    "kernelspec": {
      "display_name": "Python 3",
      "name": "python3"
    },
    "language_info": {
      "name": "python",
      "version": "3.13.2"
    }
  },
  "nbformat": 4,
  "nbformat_minor": 0
}
